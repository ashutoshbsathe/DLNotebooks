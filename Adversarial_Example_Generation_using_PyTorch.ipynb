{
  "nbformat": 4,
  "nbformat_minor": 0,
  "metadata": {
    "colab": {
      "name": "Adversarial Example Generation using PyTorch.ipynb",
      "version": "0.3.2",
      "provenance": [],
      "collapsed_sections": []
    },
    "kernelspec": {
      "name": "python3",
      "display_name": "Python 3"
    },
    "accelerator": "GPU"
  },
  "cells": [
    {
      "cell_type": "code",
      "metadata": {
        "id": "uTANxb05RMYd",
        "colab_type": "code",
        "outputId": "3c081093-279c-4dda-e1bc-43c8c5088515",
        "colab": {
          "base_uri": "https://localhost:8080/",
          "height": 34
        }
      },
      "source": [
        "%matplotlib inline\n",
        "import numpy as np\n",
        "import torch\n",
        "import torchvision\n",
        "import torchvision.transforms as transforms\n",
        "print('Using PyTorch v', torch.__version__)"
      ],
      "execution_count": 1,
      "outputs": [
        {
          "output_type": "stream",
          "text": [
            "Using PyTorch v 1.1.0\n"
          ],
          "name": "stdout"
        }
      ]
    },
    {
      "cell_type": "markdown",
      "metadata": {
        "id": "YMzD111zfwUJ",
        "colab_type": "text"
      },
      "source": [
        "# Adversarial Example Generation using PyTorch\n",
        "Demonstrates use of 2 techniques FGSM and PGD.<br>\n",
        "\n",
        "**References :**\n",
        "\n",
        "FGSM : Fast Gradient Sign Method <br>\n",
        "Paper : https://arxiv.org/abs/1412.6572<br>\n",
        "<br>\n",
        "PGD : Projected Gradient Descent (Madry et al. 2017)<br>\n",
        "Paper :  https://arxiv.org/abs/1706.06083<br>\n",
        "Implementation: https://github.com/MadryLab/mnist_challenge/blob/master/pgd_attack.py<br>"
      ]
    },
    {
      "cell_type": "markdown",
      "metadata": {
        "id": "fxOwQbPzhqh6",
        "colab_type": "text"
      },
      "source": [
        "## Training the basic model for attack\n",
        "\n",
        "Preparing dataset and training a candidate model for attack"
      ]
    },
    {
      "cell_type": "code",
      "metadata": {
        "id": "ZMhaD4cQSlHA",
        "colab_type": "code",
        "colab": {}
      },
      "source": [
        "## Loading the MNIST dataset\n",
        "dataset_transform = transforms.Compose([transforms.ToTensor(), \\\n",
        "                                        transforms.Normalize((0.5,), (0.5,))])\n",
        "train_set = torchvision.datasets.MNIST(root='./mnist', \\\n",
        "                        download=True, train=True, transform=dataset_transform)\n",
        "test_set = torchvision.datasets.MNIST(root='./mnist', \\\n",
        "                        download=True, train=False, transform=dataset_transform)"
      ],
      "execution_count": 0,
      "outputs": []
    },
    {
      "cell_type": "code",
      "metadata": {
        "id": "Vokx9bLPVKlF",
        "colab_type": "code",
        "colab": {}
      },
      "source": [
        "## Preparing samplers for data loading\n",
        "from torch.utils.data.sampler import SubsetRandomSampler\n",
        "n_train = 55000\n",
        "n_val = 5000\n",
        "n_test = 10000\n",
        "\n",
        "train_sampler = SubsetRandomSampler(np.arange(n_train, dtype=np.int64))\n",
        "val_sampler = SubsetRandomSampler(np.arange(n_train, n_train + n_val,\\\n",
        "                                            dtype=np.int64))\n",
        "test_sampler = SubsetRandomSampler(np.arange(n_test, dtype=np.int64))"
      ],
      "execution_count": 0,
      "outputs": []
    },
    {
      "cell_type": "code",
      "metadata": {
        "id": "10VT8zh0XInW",
        "colab_type": "code",
        "colab": {}
      },
      "source": [
        "## Model Definition\n",
        "from torch.autograd import Variable\n",
        "import torch.nn\n",
        "import torch.nn.functional as F\n",
        "\n",
        "class Network(torch.nn.Module):\n",
        "  # Batch shape for input x is (1, 28, 28)\n",
        "  def __init__(self):\n",
        "    super(Network, self).__init__()\n",
        "    self.conv1 = torch.nn.Conv2d(1, 32, kernel_size=5)\n",
        "    self.conv2 = torch.nn.Conv2d(32, 32, kernel_size=5)\n",
        "    self.conv3 = torch.nn.Conv2d(32, 64, kernel_size=5)\n",
        "    self.fc1 = torch.nn.Linear(64*3*3, 256)\n",
        "    self.fc2 = torch.nn.Linear(256, 10)\n",
        "    \"\"\"\n",
        "    self.conv1 = torch.nn.Conv2d(1, 16, kernel_size=3, stride=1, padding=1)\n",
        "    self.pool1 = torch.nn.MaxPool2d(kernel_size=2, stride=2, padding=0)\n",
        "    \n",
        "    self.conv2 = torch.nn.Conv2d(16, 32, kernel_size=3, stride=1, padding=1)\n",
        "    self.pool2 = torch.nn.MaxPool2d(kernel_size=2, stride=2, padding=0)\n",
        "    \n",
        "    self.fc1 = torch.nn.Linear(32 * 7 * 7, 512)\n",
        "    \n",
        "    self.fc2 = torch.nn.Linear(512, 64)\n",
        "    \n",
        "    self.fc3 = torch.nn.Linear(64, 10)\n",
        "    \"\"\"\n",
        "    \n",
        "  def forward(self, x):\n",
        "    \"\"\"\n",
        "    # Pass x through the neural network with appropriate activations\n",
        "    x = F.relu(self.conv1(x))\n",
        "    x = self.pool1(x)\n",
        "    x = F.relu(self.conv2(x))\n",
        "    x = self.pool2(x)\n",
        "    \n",
        "    # Convolution to Fully Connected Transformation\n",
        "    x = x.view(-1, 32 * 7 * 7)\n",
        "    \n",
        "    x = F.relu(self.fc1(x))\n",
        "    x = F.relu(self.fc2(x))\n",
        "    x = F.log_softmax(self.fc3(x), dim=1)\n",
        "    \"\"\"\n",
        "    x = F.relu(self.conv1(x))\n",
        "    x = F.relu(F.max_pool2d(self.conv2(x), 2))\n",
        "    x = F.dropout(x, p=0.5, training=self.training)\n",
        "    x = F.relu(F.max_pool2d(self.conv3(x), 2))\n",
        "    x = F.dropout(x, p=0.5, training=self.training)\n",
        "    x = x.view(-1, 64*3*3)\n",
        "    x = F.relu(self.fc1(x))\n",
        "    x = F.dropout(x, training=self.training)\n",
        "    x = self.fc2(x)\n",
        "    return F.log_softmax(x, dim=1)\n",
        "    "
      ],
      "execution_count": 0,
      "outputs": []
    },
    {
      "cell_type": "code",
      "metadata": {
        "id": "3f5v50p1bbyF",
        "colab_type": "code",
        "colab": {}
      },
      "source": [
        "## Function to get all data loaders at one place\n",
        "def get_data_loaders(batch_size):\n",
        "  train_loader = torch.utils.data.DataLoader(train_set, batch_size=batch_size,\\\n",
        "                                            sampler=train_sampler,num_workers=2)\n",
        "  val_loader = torch.utils.data.DataLoader(train_set, batch_size=batch_size,\\\n",
        "                                          sampler=val_sampler, num_workers=2)\n",
        "  test_loader = torch.utils.data.DataLoader(test_set, batch_size=batch_size, \\\n",
        "                                           sampler=test_sampler, num_workers=2)\n",
        "  return train_loader, val_loader, test_loader"
      ],
      "execution_count": 0,
      "outputs": []
    },
    {
      "cell_type": "code",
      "metadata": {
        "id": "RZRKhSIxczRf",
        "colab_type": "code",
        "colab": {}
      },
      "source": [
        "import torch.optim as optim\n",
        "# Training Loop\n",
        "import time\n",
        "def train(net, device, batch_size, n_epochs, learning_rate):\n",
        "  # Printing the hyperparameters of the training iterations\n",
        "  print('-'*64)\n",
        "  print('Hyperparameters:')\n",
        "  print('-'*64)\n",
        "  print('batch_size = ' + str(batch_size))\n",
        "  print('learning_rate = ' + str(learning_rate))\n",
        "  print('n_epochs = ' + str(n_epochs))\n",
        "  print('-'*64)\n",
        "  \n",
        "  train_loader, val_loader, test_loader = get_data_loaders(batch_size)\n",
        "  n_batches = len(train_loader)\n",
        "  \n",
        "  loss = torch.nn.CrossEntropyLoss()\n",
        "  optimizer = optim.Adam(net.parameters(), lr=learning_rate)\n",
        "  \n",
        "  train_start_time = time.time()\n",
        "  for epoch in range(n_epochs):\n",
        "    \n",
        "    running_loss = 0.0\n",
        "    print_every = n_batches // 10\n",
        "    start_time = time.time()\n",
        "    total_train_loss = 0\n",
        "    \n",
        "    for i, data in enumerate(train_loader, 0):\n",
        "      # Getting the data and converting them into PyTorch Variables\n",
        "      inputs, labels = data\n",
        "      inputs, labels = Variable(inputs), Variable(labels)\n",
        "      inputs, labels = inputs.to(device), labels.to(device)\n",
        "      # Setting the parameter gradients to zero\n",
        "      optimizer.zero_grad()\n",
        "      \n",
        "      # Forward pass\n",
        "      outputs = net(inputs)\n",
        "      # Compute the loss\n",
        "      outputs = outputs.to(device)\n",
        "      loss_size = loss(outputs, labels)\n",
        "      # Backprop\n",
        "      loss_size.backward()\n",
        "      optimizer.step()\n",
        "      \n",
        "      # Print stuff\n",
        "      #running_loss += loss_size.data[0]\n",
        "      running_loss += loss_size.item()\n",
        "      total_train_loss += loss_size.item()\n",
        "      #total_train_loss += loss_size.data[0]\n",
        "      \n",
        "      # Print stuff every 10 batches\n",
        "      if (i+1)%(print_every+1) == 0:\n",
        "        print('epoch {}, {:d}% \\t train_loss: {:.5f} \\t took {:.2f}s'.format(\\\n",
        "              epoch+1, int(100*(i+1)/n_batches), running_loss/print_every, \\\n",
        "                                                     time.time() - start_time))\n",
        "        running_loss = 0.0\n",
        "        start_time = time.time()\n",
        "    \n",
        "    # End of Epoch\n",
        "    # Begin Validation\n",
        "    total_val_loss = 0\n",
        "    for inputs, labels in val_loader:\n",
        "      # Converting to PyTorchVariables\n",
        "      inputs, labels = Variable(inputs), Variable(labels)\n",
        "      inputs, labels = inputs.to(device), labels.to(device)\n",
        "      val_outputs = net(inputs)\n",
        "      val_outputs = val_outputs.to(device)\n",
        "      val_loss_size = loss(val_outputs, labels)\n",
        "      #total_val_loss += val_loss_size.data[0]\n",
        "      total_val_loss += val_loss_size.item()\n",
        "    print('Validation loss = {:.5f}'.format(total_val_loss/len(val_loader)))\n",
        "    print(32*'-')\n",
        "    # End of Validation\n",
        "    \n",
        "  # End of Training\n",
        "  print('Training finished, took {:.5f}s'.format(time.time()-train_start_time))\n",
        "      "
      ],
      "execution_count": 0,
      "outputs": []
    },
    {
      "cell_type": "code",
      "metadata": {
        "id": "MQb9paylhtGF",
        "colab_type": "code",
        "outputId": "a34cbf01-9bf5-4515-e237-afe15b2b9e93",
        "colab": {
          "base_uri": "https://localhost:8080/",
          "height": 3273
        }
      },
      "source": [
        "print('CUDA Available: ', torch.cuda.is_available())\n",
        "device = torch.device('cuda' if torch.cuda.is_available() else 'cpu')\n",
        "model = Network().to(device)\n",
        "train(model, device, batch_size=32, n_epochs=16, learning_rate=0.001)"
      ],
      "execution_count": 7,
      "outputs": [
        {
          "output_type": "stream",
          "text": [
            "CUDA Available:  True\n",
            "----------------------------------------------------------------\n",
            "Hyperparameters:\n",
            "----------------------------------------------------------------\n",
            "batch_size = 32\n",
            "learning_rate = 0.001\n",
            "n_epochs = 16\n",
            "----------------------------------------------------------------\n",
            "epoch 1, 10% \t train_loss: 0.88802 \t took 1.46s\n",
            "epoch 1, 20% \t train_loss: 0.29886 \t took 1.36s\n",
            "epoch 1, 30% \t train_loss: 0.21091 \t took 1.35s\n",
            "epoch 1, 40% \t train_loss: 0.16307 \t took 1.32s\n",
            "epoch 1, 50% \t train_loss: 0.16945 \t took 1.34s\n",
            "epoch 1, 60% \t train_loss: 0.18017 \t took 1.35s\n",
            "epoch 1, 70% \t train_loss: 0.14937 \t took 1.31s\n",
            "epoch 1, 80% \t train_loss: 0.13852 \t took 1.60s\n",
            "epoch 1, 90% \t train_loss: 0.11900 \t took 1.63s\n",
            "Validation loss = 0.09386\n",
            "--------------------------------\n",
            "epoch 2, 10% \t train_loss: 0.11841 \t took 1.70s\n",
            "epoch 2, 20% \t train_loss: 0.12154 \t took 1.61s\n",
            "epoch 2, 30% \t train_loss: 0.11680 \t took 1.48s\n",
            "epoch 2, 40% \t train_loss: 0.10915 \t took 1.37s\n",
            "epoch 2, 50% \t train_loss: 0.10893 \t took 1.32s\n",
            "epoch 2, 60% \t train_loss: 0.10982 \t took 1.31s\n",
            "epoch 2, 70% \t train_loss: 0.10388 \t took 1.35s\n",
            "epoch 2, 80% \t train_loss: 0.10298 \t took 1.35s\n",
            "epoch 2, 90% \t train_loss: 0.10512 \t took 1.35s\n",
            "Validation loss = 0.07154\n",
            "--------------------------------\n",
            "epoch 3, 10% \t train_loss: 0.09252 \t took 1.42s\n",
            "epoch 3, 20% \t train_loss: 0.09648 \t took 1.32s\n",
            "epoch 3, 30% \t train_loss: 0.08226 \t took 1.34s\n",
            "epoch 3, 40% \t train_loss: 0.08525 \t took 1.31s\n",
            "epoch 3, 50% \t train_loss: 0.09958 \t took 1.33s\n",
            "epoch 3, 60% \t train_loss: 0.09018 \t took 1.34s\n",
            "epoch 3, 70% \t train_loss: 0.08642 \t took 1.32s\n",
            "epoch 3, 80% \t train_loss: 0.09339 \t took 1.33s\n",
            "epoch 3, 90% \t train_loss: 0.09146 \t took 1.34s\n",
            "Validation loss = 0.06999\n",
            "--------------------------------\n",
            "epoch 4, 10% \t train_loss: 0.09288 \t took 1.40s\n",
            "epoch 4, 20% \t train_loss: 0.07568 \t took 1.29s\n",
            "epoch 4, 30% \t train_loss: 0.08753 \t took 1.30s\n",
            "epoch 4, 40% \t train_loss: 0.08700 \t took 1.31s\n",
            "epoch 4, 50% \t train_loss: 0.07311 \t took 1.31s\n",
            "epoch 4, 60% \t train_loss: 0.08840 \t took 1.30s\n",
            "epoch 4, 70% \t train_loss: 0.08703 \t took 1.34s\n",
            "epoch 4, 80% \t train_loss: 0.09711 \t took 1.37s\n",
            "epoch 4, 90% \t train_loss: 0.07564 \t took 1.33s\n",
            "Validation loss = 0.06613\n",
            "--------------------------------\n",
            "epoch 5, 10% \t train_loss: 0.08291 \t took 1.38s\n",
            "epoch 5, 20% \t train_loss: 0.08126 \t took 1.29s\n",
            "epoch 5, 30% \t train_loss: 0.07846 \t took 1.29s\n",
            "epoch 5, 40% \t train_loss: 0.08166 \t took 1.34s\n",
            "epoch 5, 50% \t train_loss: 0.08284 \t took 1.32s\n",
            "epoch 5, 60% \t train_loss: 0.07613 \t took 1.32s\n",
            "epoch 5, 70% \t train_loss: 0.08479 \t took 1.32s\n",
            "epoch 5, 80% \t train_loss: 0.07602 \t took 1.31s\n",
            "epoch 5, 90% \t train_loss: 0.07175 \t took 1.32s\n",
            "Validation loss = 0.07080\n",
            "--------------------------------\n",
            "epoch 6, 10% \t train_loss: 0.07877 \t took 1.42s\n",
            "epoch 6, 20% \t train_loss: 0.07816 \t took 1.30s\n",
            "epoch 6, 30% \t train_loss: 0.06639 \t took 1.31s\n",
            "epoch 6, 40% \t train_loss: 0.06883 \t took 1.31s\n",
            "epoch 6, 50% \t train_loss: 0.08570 \t took 1.32s\n",
            "epoch 6, 60% \t train_loss: 0.06831 \t took 1.31s\n",
            "epoch 6, 70% \t train_loss: 0.06311 \t took 1.29s\n",
            "epoch 6, 80% \t train_loss: 0.06918 \t took 1.33s\n",
            "epoch 6, 90% \t train_loss: 0.08086 \t took 1.35s\n",
            "Validation loss = 0.06683\n",
            "--------------------------------\n",
            "epoch 7, 10% \t train_loss: 0.05626 \t took 1.39s\n",
            "epoch 7, 20% \t train_loss: 0.05363 \t took 1.36s\n",
            "epoch 7, 30% \t train_loss: 0.07133 \t took 1.62s\n",
            "epoch 7, 40% \t train_loss: 0.07513 \t took 1.62s\n",
            "epoch 7, 50% \t train_loss: 0.06958 \t took 1.63s\n",
            "epoch 7, 60% \t train_loss: 0.07579 \t took 1.68s\n",
            "epoch 7, 70% \t train_loss: 0.07917 \t took 1.62s\n",
            "epoch 7, 80% \t train_loss: 0.07737 \t took 1.62s\n",
            "epoch 7, 90% \t train_loss: 0.07522 \t took 1.34s\n",
            "Validation loss = 0.08638\n",
            "--------------------------------\n",
            "epoch 8, 10% \t train_loss: 0.07804 \t took 1.39s\n",
            "epoch 8, 20% \t train_loss: 0.06175 \t took 1.31s\n",
            "epoch 8, 30% \t train_loss: 0.06564 \t took 1.30s\n",
            "epoch 8, 40% \t train_loss: 0.05974 \t took 1.33s\n",
            "epoch 8, 50% \t train_loss: 0.06117 \t took 1.35s\n",
            "epoch 8, 60% \t train_loss: 0.06262 \t took 1.32s\n",
            "epoch 8, 70% \t train_loss: 0.06458 \t took 1.31s\n",
            "epoch 8, 80% \t train_loss: 0.07178 \t took 1.35s\n",
            "epoch 8, 90% \t train_loss: 0.06181 \t took 1.31s\n",
            "Validation loss = 0.05817\n",
            "--------------------------------\n",
            "epoch 9, 10% \t train_loss: 0.06476 \t took 1.38s\n",
            "epoch 9, 20% \t train_loss: 0.07002 \t took 1.31s\n",
            "epoch 9, 30% \t train_loss: 0.04305 \t took 1.29s\n",
            "epoch 9, 40% \t train_loss: 0.05714 \t took 1.29s\n",
            "epoch 9, 50% \t train_loss: 0.05448 \t took 1.31s\n",
            "epoch 9, 60% \t train_loss: 0.06539 \t took 1.32s\n",
            "epoch 9, 70% \t train_loss: 0.07335 \t took 1.33s\n",
            "epoch 9, 80% \t train_loss: 0.06795 \t took 1.32s\n",
            "epoch 9, 90% \t train_loss: 0.06083 \t took 1.33s\n",
            "Validation loss = 0.06555\n",
            "--------------------------------\n",
            "epoch 10, 10% \t train_loss: 0.06618 \t took 1.39s\n",
            "epoch 10, 20% \t train_loss: 0.07175 \t took 1.29s\n",
            "epoch 10, 30% \t train_loss: 0.06310 \t took 1.31s\n",
            "epoch 10, 40% \t train_loss: 0.06580 \t took 1.32s\n",
            "epoch 10, 50% \t train_loss: 0.06484 \t took 1.32s\n",
            "epoch 10, 60% \t train_loss: 0.05910 \t took 1.29s\n",
            "epoch 10, 70% \t train_loss: 0.06228 \t took 1.32s\n",
            "epoch 10, 80% \t train_loss: 0.05874 \t took 1.31s\n",
            "epoch 10, 90% \t train_loss: 0.05479 \t took 1.48s\n",
            "Validation loss = 0.06304\n",
            "--------------------------------\n",
            "epoch 11, 10% \t train_loss: 0.06384 \t took 1.71s\n",
            "epoch 11, 20% \t train_loss: 0.06190 \t took 1.31s\n",
            "epoch 11, 30% \t train_loss: 0.07218 \t took 1.31s\n",
            "epoch 11, 40% \t train_loss: 0.05585 \t took 1.32s\n",
            "epoch 11, 50% \t train_loss: 0.05531 \t took 1.32s\n",
            "epoch 11, 60% \t train_loss: 0.07396 \t took 1.32s\n",
            "epoch 11, 70% \t train_loss: 0.06368 \t took 1.32s\n",
            "epoch 11, 80% \t train_loss: 0.05721 \t took 1.31s\n",
            "epoch 11, 90% \t train_loss: 0.06758 \t took 1.34s\n",
            "Validation loss = 0.07736\n",
            "--------------------------------\n",
            "epoch 12, 10% \t train_loss: 0.05816 \t took 1.40s\n",
            "epoch 12, 20% \t train_loss: 0.05333 \t took 1.29s\n",
            "epoch 12, 30% \t train_loss: 0.06422 \t took 1.30s\n",
            "epoch 12, 40% \t train_loss: 0.06166 \t took 1.55s\n",
            "epoch 12, 50% \t train_loss: 0.05671 \t took 1.65s\n",
            "epoch 12, 60% \t train_loss: 0.06149 \t took 1.69s\n",
            "epoch 12, 70% \t train_loss: 0.05586 \t took 1.66s\n",
            "epoch 12, 80% \t train_loss: 0.06078 \t took 1.67s\n",
            "epoch 12, 90% \t train_loss: 0.05756 \t took 1.67s\n",
            "Validation loss = 0.05331\n",
            "--------------------------------\n",
            "epoch 13, 10% \t train_loss: 0.05491 \t took 1.72s\n",
            "epoch 13, 20% \t train_loss: 0.06361 \t took 1.38s\n",
            "epoch 13, 30% \t train_loss: 0.05722 \t took 1.31s\n",
            "epoch 13, 40% \t train_loss: 0.05347 \t took 1.30s\n",
            "epoch 13, 50% \t train_loss: 0.05587 \t took 1.31s\n",
            "epoch 13, 60% \t train_loss: 0.05044 \t took 1.34s\n",
            "epoch 13, 70% \t train_loss: 0.05329 \t took 1.33s\n",
            "epoch 13, 80% \t train_loss: 0.05534 \t took 1.30s\n",
            "epoch 13, 90% \t train_loss: 0.06412 \t took 1.33s\n",
            "Validation loss = 0.07602\n",
            "--------------------------------\n",
            "epoch 14, 10% \t train_loss: 0.05122 \t took 1.39s\n",
            "epoch 14, 20% \t train_loss: 0.06150 \t took 1.29s\n",
            "epoch 14, 30% \t train_loss: 0.05351 \t took 1.30s\n",
            "epoch 14, 40% \t train_loss: 0.06703 \t took 1.32s\n",
            "epoch 14, 50% \t train_loss: 0.05616 \t took 1.32s\n",
            "epoch 14, 60% \t train_loss: 0.05993 \t took 1.30s\n",
            "epoch 14, 70% \t train_loss: 0.05094 \t took 1.34s\n",
            "epoch 14, 80% \t train_loss: 0.05887 \t took 1.31s\n",
            "epoch 14, 90% \t train_loss: 0.05445 \t took 1.31s\n",
            "Validation loss = 0.06241\n",
            "--------------------------------\n",
            "epoch 15, 10% \t train_loss: 0.05346 \t took 1.39s\n",
            "epoch 15, 20% \t train_loss: 0.05483 \t took 1.31s\n",
            "epoch 15, 30% \t train_loss: 0.06384 \t took 1.30s\n",
            "epoch 15, 40% \t train_loss: 0.05548 \t took 1.34s\n",
            "epoch 15, 50% \t train_loss: 0.04948 \t took 1.33s\n",
            "epoch 15, 60% \t train_loss: 0.06412 \t took 1.32s\n",
            "epoch 15, 70% \t train_loss: 0.06877 \t took 1.34s\n",
            "epoch 15, 80% \t train_loss: 0.05944 \t took 1.33s\n",
            "epoch 15, 90% \t train_loss: 0.04371 \t took 1.31s\n",
            "Validation loss = 0.06258\n",
            "--------------------------------\n",
            "epoch 16, 10% \t train_loss: 0.04624 \t took 1.39s\n",
            "epoch 16, 20% \t train_loss: 0.04539 \t took 1.32s\n",
            "epoch 16, 30% \t train_loss: 0.06903 \t took 1.30s\n",
            "epoch 16, 40% \t train_loss: 0.06322 \t took 1.32s\n",
            "epoch 16, 50% \t train_loss: 0.06373 \t took 1.32s\n",
            "epoch 16, 60% \t train_loss: 0.05207 \t took 1.31s\n",
            "epoch 16, 70% \t train_loss: 0.05327 \t took 1.32s\n",
            "epoch 16, 80% \t train_loss: 0.04835 \t took 1.35s\n",
            "epoch 16, 90% \t train_loss: 0.06525 \t took 1.35s\n",
            "Validation loss = 0.06717\n",
            "--------------------------------\n",
            "Training finished, took 236.05302s\n"
          ],
          "name": "stdout"
        }
      ]
    },
    {
      "cell_type": "markdown",
      "metadata": {
        "id": "MmTKnVMjiggZ",
        "colab_type": "text"
      },
      "source": [
        "## Fast Gradient Sign Method\n",
        "As explained in the paper, perturbation is created as follows:\n",
        "\n",
        "$$\n",
        "X^{adv} = X + \\epsilon . sign(\\nabla_XJ(X, Y_{true}))\n",
        "$$\n",
        "Here,\n",
        "$X^{adv}$ is the adversarial image created, $X$ is the clean image, $\\epsilon$ is the magnitude of adversarial perturbation and $\\nabla_XJ(X, Y_{true})$ is the loss function."
      ]
    },
    {
      "cell_type": "markdown",
      "metadata": {
        "id": "TRjPHWVqjy2R",
        "colab_type": "text"
      },
      "source": [
        "### Attack implementation and testing"
      ]
    },
    {
      "cell_type": "code",
      "metadata": {
        "id": "G5JkivNzh5IF",
        "colab_type": "code",
        "colab": {}
      },
      "source": [
        "def fgsm_attack(image, epsilon, data_grad):\n",
        "  # Getting element-wise sign of the data gradient\n",
        "  sign = data_grad.sign()\n",
        "  # Creating the perturbed image\n",
        "  perturbed_image = image + epsilon*sign\n",
        "  # Clipping the perturbed image \n",
        "  perturbed_image = torch.clamp(perturbed_image, 0, 1)\n",
        "  \n",
        "  return perturbed_image"
      ],
      "execution_count": 0,
      "outputs": []
    },
    {
      "cell_type": "code",
      "metadata": {
        "id": "rM_H3Vgs-kih",
        "colab_type": "code",
        "colab": {}
      },
      "source": [
        "def test_fgsm_attack(model, device, data_loader, epsilon):\n",
        "  # Counting the accuracy\n",
        "  correct_samples = 0\n",
        "  adversarial_samples = []\n",
        "  max_adversarial_samples = 5\n",
        "  # Looping over all samples in data\n",
        "  for data, target in data_loader:\n",
        "    # If using CUDA, copy to CUDA device\n",
        "    data, target = data.to(device), target.to(device)\n",
        "    # Enables computation of gradient of image itself\n",
        "    # Setting this will compute the gradient during backprop\n",
        "    data.requires_grad = True\n",
        "    # Forward Pass\n",
        "    output = model(data)\n",
        "    # Getting the index of max log probability\n",
        "    # If max log probability at index 5, class 5 has been predicted\n",
        "    initial_pred = output.max(1, keepdim=True)[1]\n",
        "    \n",
        "    if initial_pred.item() != target.item():\n",
        "      continue # Don't attack if prediction is incorrect\n",
        "    \n",
        "    loss = F.nll_loss(output, target)\n",
        "    model.zero_grad() # Zeoring out all existing gradients for new gradient calc\n",
        "    loss.backward()\n",
        "    \n",
        "    # Collecting data gradient\n",
        "    data_grad = data.grad.data\n",
        "    \n",
        "    # Attack !\n",
        "    perturbed_data = fgsm_attack(data, epsilon, data_grad)\n",
        "    \n",
        "    # Classify the perturbed image\n",
        "    output = model(perturbed_data)\n",
        "    \n",
        "    final_pred = output.max(1, keepdim=True)[1]\n",
        "    if final_pred.item() == target.item():\n",
        "      correct_samples += 1\n",
        "      # Epsilon = 0 is a special case\n",
        "      if(epsilon == 0) and len(adversarial_samples) < max_adversarial_samples:\n",
        "        adversarial_sample = perturbed_data.squeeze().detach().cpu().numpy()\n",
        "        adversarial_samples.append((initial_pred.item(), final_pred.item(), \\\n",
        "                                    adversarial_sample))\n",
        "    else:\n",
        "      # If we have room for more addversarial samples\n",
        "      if(len(adversarial_samples) < max_adversarial_samples):\n",
        "        adversarial_sample = perturbed_data.squeeze().detach().cpu().numpy()\n",
        "        adversarial_samples.append((initial_pred.item(), final_pred.item(), \\\n",
        "                                    adversarial_sample))\n",
        "  # End of loop\n",
        "  final_acc = correct_samples/float(len(data_loader))\n",
        "  return final_acc, adversarial_samples"
      ],
      "execution_count": 0,
      "outputs": []
    },
    {
      "cell_type": "code",
      "metadata": {
        "id": "UQaEXZ0NCWdb",
        "colab_type": "code",
        "outputId": "bedd8289-a8f2-43ab-c45c-f1595b010447",
        "colab": {
          "base_uri": "https://localhost:8080/",
          "height": 228
        }
      },
      "source": [
        "train_loader, val_loader, test_loader = get_data_loaders(1)\n",
        "\n",
        "accuracies = []\n",
        "adversarial_samples = []\n",
        "print('CUDA Available: ', torch.cuda.is_available())\n",
        "device = torch.device('cuda' if torch.cuda.is_available() else 'cpu')\n",
        "#model = Network().to(device)\n",
        "epsilons = [0, 0.04, 0.08, 0.12, 0.16, 0.2, 0.24, 0.28, 0.32, 0.36, 0.4]\n",
        "#epsilons = [0.3]\n",
        "for epsilon in epsilons:\n",
        "  acc, adv_examples = test_fgsm_attack(model, device, test_loader, epsilon)\n",
        "  print('Final Accuracy: {:.5f}, epsilon = {:.2f}'.format(acc, epsilon))\n",
        "  accuracies.append(acc)\n",
        "  adversarial_samples.append(adv_examples)"
      ],
      "execution_count": 10,
      "outputs": [
        {
          "output_type": "stream",
          "text": [
            "CUDA Available:  True\n",
            "Final Accuracy: 0.61560, epsilon = 0.00\n",
            "Final Accuracy: 0.54830, epsilon = 0.04\n",
            "Final Accuracy: 0.46530, epsilon = 0.08\n",
            "Final Accuracy: 0.38670, epsilon = 0.12\n",
            "Final Accuracy: 0.32530, epsilon = 0.16\n",
            "Final Accuracy: 0.27420, epsilon = 0.20\n",
            "Final Accuracy: 0.23440, epsilon = 0.24\n",
            "Final Accuracy: 0.20340, epsilon = 0.28\n",
            "Final Accuracy: 0.18660, epsilon = 0.32\n",
            "Final Accuracy: 0.17320, epsilon = 0.36\n",
            "Final Accuracy: 0.16740, epsilon = 0.40\n"
          ],
          "name": "stdout"
        }
      ]
    },
    {
      "cell_type": "code",
      "metadata": {
        "id": "8Nuq4B0kDooo",
        "colab_type": "code",
        "outputId": "bbb2c79f-1db2-4244-91ea-73a5c90ebfff",
        "colab": {
          "base_uri": "https://localhost:8080/",
          "height": 295
        }
      },
      "source": [
        "import matplotlib.pyplot as plt\n",
        "%matplotlib inline\n",
        "plt.plot(epsilons, accuracies, '*-')\n",
        "plt.xlabel('Epsilon')\n",
        "plt.ylabel('Accuracy')\n",
        "plt.title('Accuracy vs Epsilon: FGSM')\n",
        "plt.show()"
      ],
      "execution_count": 11,
      "outputs": [
        {
          "output_type": "display_data",
          "data": {
            "image/png": "[encoded data removed]",
            "text/plain": [
              "<Figure size 432x288 with 1 Axes>"
            ]
          },
          "metadata": {
            "tags": []
          }
        }
      ]
    },
    {
      "cell_type": "markdown",
      "metadata": {
        "id": "N_BVoGXDhW9O",
        "colab_type": "text"
      },
      "source": [
        "### Visualizations of adversarial samples generated"
      ]
    },
    {
      "cell_type": "code",
      "metadata": {
        "id": "qYHRY38whcuo",
        "colab_type": "code",
        "colab": {
          "base_uri": "https://localhost:8080/",
          "height": 737
        },
        "outputId": "1aa47c01-2195-4c4b-8c22-505f596eb956"
      },
      "source": [
        "# Plot several examples of adversarial samples at each epsilon\n",
        "cnt = 0\n",
        "examples = adversarial_samples\n",
        "plt.figure(figsize=(8,10))\n",
        "for i in range(len(epsilons)):\n",
        "    for j in range(len(examples[i])):\n",
        "        cnt += 1\n",
        "        plt.subplot(len(epsilons),len(examples[0]),cnt)\n",
        "        plt.xticks([], [])\n",
        "        plt.yticks([], [])\n",
        "        if j == 0:\n",
        "            plt.ylabel(\"Eps: {}\".format(epsilons[i]), fontsize=14)\n",
        "        orig,adv,ex = examples[i][j]\n",
        "        plt.title(\"{} -> {}\".format(orig, adv))\n",
        "        plt.imshow(ex, cmap=\"gray\")\n",
        "plt.tight_layout()\n",
        "plt.show()"
      ],
      "execution_count": 12,
      "outputs": [
        {
          "output_type": "display_data",
          "data": {
            "image/png": "[encoded data removed]",
            "text/plain": [
              "<Figure size 576x720 with 55 Axes>"
            ]
          },
          "metadata": {
            "tags": []
          }
        }
      ]
    },
    {
      "cell_type": "markdown",
      "metadata": {
        "id": "tIkMpTRTkPEd",
        "colab_type": "text"
      },
      "source": [
        "## Projected Gradient Descent\n",
        "While the FGSM is a good approximation for linearization of the loss function, projected gradient descent clips the perturbation to trap it inside the $L_\\infty$ sphere. Other norms are also possible to use."
      ]
    },
    {
      "cell_type": "code",
      "metadata": {
        "id": "Y8b3tGniJrkQ",
        "colab_type": "code",
        "colab": {}
      },
      "source": [
        "def pgd_attack(image, epsilon, data_grad):\n",
        "  # Getting element-wise sign of the data gradient\n",
        "  sign = data_grad.sign()\n",
        "  # Creating the perturbed image\n",
        "  perturbed_image = image + epsilon*sign\n",
        "  # Projecting perturbation within the `epsilon` sphere\n",
        "  # 2 ways of doing this\n",
        "  # Either use np.clip(perturbed_image, image+/-epsilon) or the following\n",
        "  perturbed_image = torch.where(perturbed_image > image + epsilon, \\\n",
        "                               image + epsilon, perturbed_image)\n",
        "  perturbed_image = torch.where(perturbed_image < image - epsilon, \\\n",
        "                               image - epsilon, perturbed_image)\n",
        "  # Clipping the perturbed image \n",
        "  perturbed_image = torch.clamp(perturbed_image, 0, 1)\n",
        "  \n",
        "  return perturbed_image"
      ],
      "execution_count": 0,
      "outputs": []
    },
    {
      "cell_type": "code",
      "metadata": {
        "id": "rwDoyQ8VVIyk",
        "colab_type": "code",
        "colab": {}
      },
      "source": [
        "def test_pgd_attack(model, device, data_loader, epsilon):\n",
        "  # Counting the accuracy\n",
        "  correct_samples = 0\n",
        "  adversarial_samples = []\n",
        "  max_adversarial_samples = 5\n",
        "  # Looping over all samples in data\n",
        "  for data, target in data_loader:\n",
        "    # If using CUDA, copy to CUDA device\n",
        "    data, target = data.to(device), target.to(device)\n",
        "    # Enables computation of gradient of image itself\n",
        "    # Setting this will compute the gradient during backprop\n",
        "    data.requires_grad = True\n",
        "    # Forward Pass\n",
        "    output = model(data)\n",
        "    # Getting the index of max log probability\n",
        "    # If max log probability at index 5, class 5 has been predicted\n",
        "    initial_pred = output.max(1, keepdim=True)[1]\n",
        "    \n",
        "    if initial_pred.item() != target.item():\n",
        "      continue # Don't attack if prediction is incorrect\n",
        "    \n",
        "    loss = F.nll_loss(output, target)\n",
        "    model.zero_grad() # Zeoring out all existing gradients for new gradient calc\n",
        "    loss.backward()\n",
        "    \n",
        "    # Collecting data gradient\n",
        "    data_grad = data.grad.data\n",
        "    \n",
        "    # Attack !\n",
        "    perturbed_data = pgd_attack(data, epsilon, data_grad)\n",
        "    \n",
        "    # Classify the perturbed image\n",
        "    output = model(perturbed_data)\n",
        "    \n",
        "    final_pred = output.max(1, keepdim=True)[1]\n",
        "    if final_pred.item() == target.item():\n",
        "      correct_samples += 1\n",
        "      # Epsilon = 0 is a special case\n",
        "      if(epsilon == 0) and len(adversarial_samples) < max_adversarial_samples:\n",
        "        adversarial_sample = perturbed_data.squeeze().detach().cpu().numpy()\n",
        "        adversarial_samples.append((initial_pred.item(), final_pred.item(), \\\n",
        "                                    adversarial_sample))\n",
        "    else:\n",
        "      # If we have room for more addversarial samples\n",
        "      if(len(adversarial_samples) < max_adversarial_samples):\n",
        "        adversarial_sample = perturbed_data.squeeze().detach().cpu().numpy()\n",
        "        adversarial_samples.append((initial_pred.item(), final_pred.item(), \\\n",
        "                                    adversarial_sample))\n",
        "  # End of loop\n",
        "  final_acc = correct_samples/float(len(data_loader))\n",
        "  return final_acc, adversarial_samples"
      ],
      "execution_count": 0,
      "outputs": []
    },
    {
      "cell_type": "code",
      "metadata": {
        "id": "9Hq4v_9DVTM9",
        "colab_type": "code",
        "colab": {
          "base_uri": "https://localhost:8080/",
          "height": 228
        },
        "outputId": "80267d13-02d7-4498-973b-7253671bbbef"
      },
      "source": [
        "train_loader, val_loader, test_loader = get_data_loaders(1)\n",
        "\n",
        "accuracies = []\n",
        "adversarial_samples = []\n",
        "print('CUDA Available: ', torch.cuda.is_available())\n",
        "device = torch.device('cuda' if torch.cuda.is_available() else 'cpu')\n",
        "#model = Network().to(device)\n",
        "epsilons = [0, 0.04, 0.08, 0.12, 0.16, 0.2, 0.24, 0.28, 0.32, 0.36, 0.4]\n",
        "\n",
        "for epsilon in epsilons:\n",
        "  acc, adv_examples = test_pgd_attack(model, device, test_loader, epsilon)\n",
        "  print('Final Accuracy: {:.5f}, epsilon = {:.2f}'.format(acc, epsilon))\n",
        "  accuracies.append(acc)\n",
        "  adversarial_samples.append(adv_examples)"
      ],
      "execution_count": 15,
      "outputs": [
        {
          "output_type": "stream",
          "text": [
            "CUDA Available:  True\n",
            "Final Accuracy: 0.62010, epsilon = 0.00\n",
            "Final Accuracy: 0.55480, epsilon = 0.04\n",
            "Final Accuracy: 0.46570, epsilon = 0.08\n",
            "Final Accuracy: 0.38470, epsilon = 0.12\n",
            "Final Accuracy: 0.32560, epsilon = 0.16\n",
            "Final Accuracy: 0.26960, epsilon = 0.20\n",
            "Final Accuracy: 0.23300, epsilon = 0.24\n",
            "Final Accuracy: 0.20950, epsilon = 0.28\n",
            "Final Accuracy: 0.18580, epsilon = 0.32\n",
            "Final Accuracy: 0.17530, epsilon = 0.36\n",
            "Final Accuracy: 0.16440, epsilon = 0.40\n"
          ],
          "name": "stdout"
        }
      ]
    },
    {
      "cell_type": "code",
      "metadata": {
        "id": "VSjcIFL3VUIQ",
        "colab_type": "code",
        "colab": {
          "base_uri": "https://localhost:8080/",
          "height": 295
        },
        "outputId": "a55a0d88-1ee5-48c8-fd7e-1f8816d94163"
      },
      "source": [
        "import matplotlib.pyplot as plt\n",
        "%matplotlib inline\n",
        "plt.plot(epsilons, accuracies, '*-')\n",
        "plt.xlabel('Epsilon')\n",
        "plt.ylabel('Accuracy')\n",
        "plt.title('Accuracy vs Epsilon: PGD')\n",
        "plt.show()"
      ],
      "execution_count": 16,
      "outputs": [
        {
          "output_type": "display_data",
          "data": {
            "image/png": "[encoded data removed]",
            "text/plain": [
              "<Figure size 432x288 with 1 Axes>"
            ]
          },
          "metadata": {
            "tags": []
          }
        }
      ]
    },
    {
      "cell_type": "markdown",
      "metadata": {
        "id": "jFEToqhdkml4",
        "colab_type": "text"
      },
      "source": [
        "### Visualizations of adversarial samples generated"
      ]
    },
    {
      "cell_type": "code",
      "metadata": {
        "id": "581rugPCks_k",
        "colab_type": "code",
        "colab": {
          "base_uri": "https://localhost:8080/",
          "height": 737
        },
        "outputId": "fe5c5648-8e3d-4549-debe-81d5614e9bf6"
      },
      "source": [
        "# Plot several examples of adversarial samples at each epsilon\n",
        "cnt = 0\n",
        "examples = adversarial_samples\n",
        "plt.figure(figsize=(8,10))\n",
        "for i in range(len(epsilons)):\n",
        "    for j in range(len(examples[i])):\n",
        "        cnt += 1\n",
        "        plt.subplot(len(epsilons),len(examples[0]),cnt)\n",
        "        plt.xticks([], [])\n",
        "        plt.yticks([], [])\n",
        "        if j == 0:\n",
        "            plt.ylabel(\"Eps: {}\".format(epsilons[i]), fontsize=14)\n",
        "        orig,adv,ex = examples[i][j]\n",
        "        plt.title(\"{} -> {}\".format(orig, adv))\n",
        "        plt.imshow(ex, cmap=\"gray\")\n",
        "plt.tight_layout()\n",
        "plt.show()\n",
        "\n"
      ],
      "execution_count": 17,
      "outputs": [
        {
          "output_type": "display_data",
          "data": {
            "image/png": "[encoded data removed]",
            "text/plain": [
              "<Figure size 576x720 with 55 Axes>"
            ]
          },
          "metadata": {
            "tags": []
          }
        }
      ]
    },
    {
      "cell_type": "code",
      "metadata": {
        "id": "8ICuUYPAd7_y",
        "colab_type": "code",
        "colab": {
          "base_uri": "https://localhost:8080/",
          "height": 54
        },
        "outputId": "d7de02f0-1d21-406e-cbcb-ea24b95cfb1a"
      },
      "source": [
        "\"\"\"\n",
        "## TODO:\n",
        "In functions `fgsm_attack` and `pgd_attack`, take `loss` and `model` as argument\n",
        "instead of `data_grad` directly.\n",
        "Also make sure to zero the gradient before adding it to the `image`\n",
        "\"\"\""
      ],
      "execution_count": 18,
      "outputs": [
        {
          "output_type": "execute_result",
          "data": {
            "text/plain": [
              "'\\n## TODO:\\nIn functions `fgsm_attack` and `pgd_attack`, take `loss` and `model` as argument\\ninstead of `data_grad` directly.\\nAlso make sure to zero the gradient before adding it to the `image`\\n'"
            ]
          },
          "metadata": {
            "tags": []
          },
          "execution_count": 18
        }
      ]
    }
  ]
}