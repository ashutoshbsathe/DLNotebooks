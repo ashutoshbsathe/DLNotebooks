{
  "nbformat": 4,
  "nbformat_minor": 0,
  "metadata": {
    "colab": {
      "name": "NewYork_TaxiFare_Predictions.ipynb",
      "version": "0.3.2",
      "provenance": [],
      "collapsed_sections": []
    },
    "kernelspec": {
      "name": "python3",
      "display_name": "Python 3"
    },
    "accelerator": "TPU"
  },
  "cells": [
    {
      "metadata": {
        "id": "SNpYVTjFICrD",
        "colab_type": "text"
      },
      "cell_type": "markdown",
      "source": [
        "# New York Taxi Fare Prediction :\n",
        "\n",
        "<u>Course project for \"Probability and Statistics\"</u>\n",
        "\n",
        "**Name** - Ashutosh Sathe\n",
        "\n",
        "**Class** - T.Y.B.Tech Computer Engineering"
      ]
    },
    {
      "metadata": {
        "id": "R8ES0g0jIjQ8",
        "colab_type": "text"
      },
      "cell_type": "markdown",
      "source": [
        "### Setting up Google Colab:\n",
        "In order to download datasets from kaggle, we need to setup kaggle API key and upload it to Google colab session to allow it to use it."
      ]
    },
    {
      "metadata": {
        "id": "jkKWCxGDsl6g",
        "colab_type": "code",
        "colab": {}
      },
      "cell_type": "code",
      "source": [
        "from google.colab import files\n",
        "files.upload()"
      ],
      "execution_count": 0,
      "outputs": []
    },
    {
      "metadata": {
        "id": "fYgNHmUQtm4k",
        "colab_type": "code",
        "outputId": "24c10596-dd23-4bac-dbdb-242dc2bfd638",
        "colab": {
          "base_uri": "https://localhost:8080/",
          "height": 210
        }
      },
      "cell_type": "code",
      "source": [
        "!pip install kaggle\n",
        "!mkdir -p ~/.kaggle\n",
        "!cp kaggle.json ~/.kaggle/"
      ],
      "execution_count": 0,
      "outputs": [
        {
          "output_type": "stream",
          "text": [
            "Requirement already satisfied: kaggle in /usr/local/lib/python3.6/dist-packages (1.5.2)\n",
            "Requirement already satisfied: urllib3<1.23.0,>=1.15 in /usr/local/lib/python3.6/dist-packages (from kaggle) (1.22)\n",
            "Requirement already satisfied: six>=1.10 in /usr/local/lib/python3.6/dist-packages (from kaggle) (1.11.0)\n",
            "Requirement already satisfied: certifi in /usr/local/lib/python3.6/dist-packages (from kaggle) (2018.11.29)\n",
            "Requirement already satisfied: python-dateutil in /usr/local/lib/python3.6/dist-packages (from kaggle) (2.5.3)\n",
            "Requirement already satisfied: requests in /usr/local/lib/python3.6/dist-packages (from kaggle) (2.18.4)\n",
            "Requirement already satisfied: tqdm in /usr/local/lib/python3.6/dist-packages (from kaggle) (4.28.1)\n",
            "Requirement already satisfied: python-slugify in /usr/local/lib/python3.6/dist-packages (from kaggle) (2.0.1)\n",
            "Requirement already satisfied: chardet<3.1.0,>=3.0.2 in /usr/local/lib/python3.6/dist-packages (from requests->kaggle) (3.0.4)\n",
            "Requirement already satisfied: idna<2.7,>=2.5 in /usr/local/lib/python3.6/dist-packages (from requests->kaggle) (2.6)\n",
            "Requirement already satisfied: Unidecode>=0.04.16 in /usr/local/lib/python3.6/dist-packages (from python-slugify->kaggle) (1.0.23)\n"
          ],
          "name": "stdout"
        }
      ]
    },
    {
      "metadata": {
        "id": "HZneez7ht_g8",
        "colab_type": "code",
        "colab": {}
      },
      "cell_type": "code",
      "source": [
        "!chmod 600 /root/.kaggle/kaggle.json\n",
        "!kaggle datasets list"
      ],
      "execution_count": 0,
      "outputs": []
    },
    {
      "metadata": {
        "id": "q4keqGnsuSFD",
        "colab_type": "code",
        "outputId": "b5f2d674-2ee4-43b1-cc18-53a8b9e1a2f7",
        "colab": {
          "base_uri": "https://localhost:8080/",
          "height": 228
        }
      },
      "cell_type": "code",
      "source": [
        "!kaggle competitions download -c new-york-city-taxi-fare-prediction"
      ],
      "execution_count": 0,
      "outputs": [
        {
          "output_type": "stream",
          "text": [
            "Downloading sample_submission.csv to /content\n",
            "\r  0% 0.00/335k [00:00<?, ?B/s]\n",
            "100% 335k/335k [00:00<00:00, 51.3MB/s]\n",
            "Downloading test.csv to /content\n",
            "  0% 0.00/960k [00:00<?, ?B/s]\n",
            "100% 960k/960k [00:00<00:00, 61.7MB/s]\n",
            "Downloading train.csv.zip to /content\n",
            " 99% 1.55G/1.56G [00:16<00:00, 100MB/s]\n",
            "100% 1.56G/1.56G [00:16<00:00, 101MB/s]\n",
            "Downloading GCP-Coupons-Instructions.rtf to /content\n",
            "  0% 0.00/486 [00:00<?, ?B/s]\n",
            "100% 486/486 [00:00<00:00, 485kB/s]\n"
          ],
          "name": "stdout"
        }
      ]
    },
    {
      "metadata": {
        "id": "RCindbZMut8E",
        "colab_type": "code",
        "outputId": "bbf9c8aa-b723-4ad2-c5df-cac78c64dbef",
        "colab": {
          "base_uri": "https://localhost:8080/",
          "height": 122
        }
      },
      "cell_type": "code",
      "source": [
        "!ls\n",
        "!unzip train.csv.zip\n",
        "!ls"
      ],
      "execution_count": 0,
      "outputs": [
        {
          "output_type": "stream",
          "text": [
            "GCP-Coupons-Instructions.rtf  sample_data\t     test.csv\n",
            "kaggle.json\t\t      sample_submission.csv  train.csv.zip\n",
            "Archive:  train.csv.zip\n",
            "  inflating: train.csv               \n",
            "GCP-Coupons-Instructions.rtf  sample_data\t     test.csv\ttrain.csv.zip\n",
            "kaggle.json\t\t      sample_submission.csv  train.csv\n"
          ],
          "name": "stdout"
        }
      ]
    },
    {
      "metadata": {
        "id": "muJjddZKJdZk",
        "colab_type": "text"
      },
      "cell_type": "markdown",
      "source": [
        "### Approach :\n",
        "Since here we want to try end-to-end deep learning, I'll focus minimum on preparation of data. I'll just take care of mostly erraneous stuff such as negative fare, trips to water etc."
      ]
    },
    {
      "metadata": {
        "id": "yYfuIkzzwIa8",
        "colab_type": "code",
        "colab": {}
      },
      "cell_type": "code",
      "source": [
        "# based right off the data exploration kernel on kaggle\n",
        "import numpy as np\n",
        "import pandas as pd\n",
        "import matplotlib.pyplot as plt\n",
        "import seaborn as sns\n",
        "% matplotlib inline\n",
        "plt.style.use('seaborn-whitegrid')"
      ],
      "execution_count": 0,
      "outputs": []
    },
    {
      "metadata": {
        "id": "dVzjggD81vft",
        "colab_type": "code",
        "outputId": "55da4e00-4f06-4293-c355-04a934745df4",
        "colab": {
          "base_uri": "https://localhost:8080/",
          "height": 195
        }
      },
      "cell_type": "code",
      "source": [
        "df_train = pd.read_csv('train.csv', nrows = 5_000_000, \\\n",
        "                      parse_dates=['pickup_datetime'])\n",
        "df_train.head()"
      ],
      "execution_count": 0,
      "outputs": [
        {
          "output_type": "execute_result",
          "data": {
            "text/html": [
              "<div>\n",
              "<style scoped>\n",
              "    .dataframe tbody tr th:only-of-type {\n",
              "        vertical-align: middle;\n",
              "    }\n",
              "\n",
              "    .dataframe tbody tr th {\n",
              "        vertical-align: top;\n",
              "    }\n",
              "\n",
              "    .dataframe thead th {\n",
              "        text-align: right;\n",
              "    }\n",
              "</style>\n",
              "<table border=\"1\" class=\"dataframe\">\n",
              "  <thead>\n",
              "    <tr style=\"text-align: right;\">\n",
              "      <th></th>\n",
              "      <th>key</th>\n",
              "      <th>fare_amount</th>\n",
              "      <th>pickup_datetime</th>\n",
              "      <th>pickup_longitude</th>\n",
              "      <th>pickup_latitude</th>\n",
              "      <th>dropoff_longitude</th>\n",
              "      <th>dropoff_latitude</th>\n",
              "      <th>passenger_count</th>\n",
              "    </tr>\n",
              "  </thead>\n",
              "  <tbody>\n",
              "    <tr>\n",
              "      <th>0</th>\n",
              "      <td>2009-06-15 17:26:21.0000001</td>\n",
              "      <td>4.5</td>\n",
              "      <td>2009-06-15 17:26:21</td>\n",
              "      <td>-73.844311</td>\n",
              "      <td>40.721319</td>\n",
              "      <td>-73.841610</td>\n",
              "      <td>40.712278</td>\n",
              "      <td>1</td>\n",
              "    </tr>\n",
              "    <tr>\n",
              "      <th>1</th>\n",
              "      <td>2010-01-05 16:52:16.0000002</td>\n",
              "      <td>16.9</td>\n",
              "      <td>2010-01-05 16:52:16</td>\n",
              "      <td>-74.016048</td>\n",
              "      <td>40.711303</td>\n",
              "      <td>-73.979268</td>\n",
              "      <td>40.782004</td>\n",
              "      <td>1</td>\n",
              "    </tr>\n",
              "    <tr>\n",
              "      <th>2</th>\n",
              "      <td>2011-08-18 00:35:00.00000049</td>\n",
              "      <td>5.7</td>\n",
              "      <td>2011-08-18 00:35:00</td>\n",
              "      <td>-73.982738</td>\n",
              "      <td>40.761270</td>\n",
              "      <td>-73.991242</td>\n",
              "      <td>40.750562</td>\n",
              "      <td>2</td>\n",
              "    </tr>\n",
              "    <tr>\n",
              "      <th>3</th>\n",
              "      <td>2012-04-21 04:30:42.0000001</td>\n",
              "      <td>7.7</td>\n",
              "      <td>2012-04-21 04:30:42</td>\n",
              "      <td>-73.987130</td>\n",
              "      <td>40.733143</td>\n",
              "      <td>-73.991567</td>\n",
              "      <td>40.758092</td>\n",
              "      <td>1</td>\n",
              "    </tr>\n",
              "    <tr>\n",
              "      <th>4</th>\n",
              "      <td>2010-03-09 07:51:00.000000135</td>\n",
              "      <td>5.3</td>\n",
              "      <td>2010-03-09 07:51:00</td>\n",
              "      <td>-73.968095</td>\n",
              "      <td>40.768008</td>\n",
              "      <td>-73.956655</td>\n",
              "      <td>40.783762</td>\n",
              "      <td>1</td>\n",
              "    </tr>\n",
              "  </tbody>\n",
              "</table>\n",
              "</div>"
            ],
            "text/plain": [
              "                             key  fare_amount     pickup_datetime  \\\n",
              "0    2009-06-15 17:26:21.0000001          4.5 2009-06-15 17:26:21   \n",
              "1    2010-01-05 16:52:16.0000002         16.9 2010-01-05 16:52:16   \n",
              "2   2011-08-18 00:35:00.00000049          5.7 2011-08-18 00:35:00   \n",
              "3    2012-04-21 04:30:42.0000001          7.7 2012-04-21 04:30:42   \n",
              "4  2010-03-09 07:51:00.000000135          5.3 2010-03-09 07:51:00   \n",
              "\n",
              "   pickup_longitude  pickup_latitude  dropoff_longitude  dropoff_latitude  \\\n",
              "0        -73.844311        40.721319         -73.841610         40.712278   \n",
              "1        -74.016048        40.711303         -73.979268         40.782004   \n",
              "2        -73.982738        40.761270         -73.991242         40.750562   \n",
              "3        -73.987130        40.733143         -73.991567         40.758092   \n",
              "4        -73.968095        40.768008         -73.956655         40.783762   \n",
              "\n",
              "   passenger_count  \n",
              "0                1  \n",
              "1                1  \n",
              "2                2  \n",
              "3                1  \n",
              "4                1  "
            ]
          },
          "metadata": {
            "tags": []
          },
          "execution_count": 8
        }
      ]
    },
    {
      "metadata": {
        "id": "Nj-4AB58CRIY",
        "colab_type": "code",
        "outputId": "1c610ba8-69a9-42ce-d974-a514b8829676",
        "colab": {
          "base_uri": "https://localhost:8080/",
          "height": 52
        }
      },
      "cell_type": "code",
      "source": [
        "# Removing negative fare amount datapoints\n",
        "print('Size before removing any negative fare datapoints: %d' % len(df_train))\n",
        "df_train = df_train[df_train.fare_amount>=0]\n",
        "print('Size after removing all negative fare datapoints: %d' % len(df_train))"
      ],
      "execution_count": 0,
      "outputs": [
        {
          "output_type": "stream",
          "text": [
            "Size before removing any negative fare datapoints: 5000000\n",
            "Size after removing all negative fare datapoints: 4999789\n"
          ],
          "name": "stdout"
        }
      ]
    },
    {
      "metadata": {
        "id": "ntANHpMgCv4h",
        "colab_type": "code",
        "outputId": "6dfe1702-80e6-43b2-f2d2-1da094199666",
        "colab": {
          "base_uri": "https://localhost:8080/",
          "height": 228
        }
      },
      "cell_type": "code",
      "source": [
        "# Removing null datapoints\n",
        "print(\"The null datapoints are :\")\n",
        "print(df_train.isnull().sum())\n",
        "print('Size before removing any null valued datapoints: %d' % len(df_train))\n",
        "df_train = df_train.dropna(how = 'any', axis = 'rows')\n",
        "print('Size after removing all null valued datapoints: %d' % len(df_train))"
      ],
      "execution_count": 0,
      "outputs": [
        {
          "output_type": "stream",
          "text": [
            "The null datapoints are :\n",
            "key                   0\n",
            "fare_amount           0\n",
            "pickup_datetime       0\n",
            "pickup_longitude      0\n",
            "pickup_latitude       0\n",
            "dropoff_longitude    36\n",
            "dropoff_latitude     36\n",
            "passenger_count       0\n",
            "dtype: int64\n",
            "Size before removing any null valued datapoints: 4999789\n",
            "Size after removing all null valued datapoints: 4999753\n"
          ],
          "name": "stdout"
        }
      ]
    },
    {
      "metadata": {
        "id": "0NCE_AjMDoyp",
        "colab_type": "code",
        "outputId": "3be663f3-8597-44e2-fd57-d778f0228c1b",
        "colab": {
          "base_uri": "https://localhost:8080/",
          "height": 52
        }
      },
      "cell_type": "code",
      "source": [
        "# Removing all the datapoints outside the bounding box\n",
        "BB = (-74.5, -72.8, 40.5, 41.0)\n",
        "\n",
        "def select_within_boundingbox(df, BB):\n",
        "  return (df.pickup_longitude >= BB[0]) & (df.pickup_longitude <= BB[1]) & \\\n",
        "         (df.pickup_latitude >= BB[2]) & (df.pickup_latitude <= BB[3]) & \\\n",
        "         (df.dropoff_longitude >= BB[0]) & (df.dropoff_longitude <= BB[1]) & \\\n",
        "         (df.dropoff_latitude >= BB[2]) & (df.dropoff_latitude <= BB[3])\n",
        "\n",
        "nyc_map = plt.imread('https://aiblog.nl/download/nyc_-74.5_-72.8_40.5_41.8.png')\n",
        "\n",
        "print('Size before removing datapoints outside boundary box: %d' % len(df_train))\n",
        "df_train = df_train[select_within_boundingbox(df_train, BB)]\n",
        "print('Size after removing datapoints outside boundary box: %d' % len(df_train))"
      ],
      "execution_count": 0,
      "outputs": [
        {
          "output_type": "stream",
          "text": [
            "Size before removing datapoints outside boundary box: 4999753\n",
            "Size after removing datapoints outside boundary box: 4891109\n"
          ],
          "name": "stdout"
        }
      ]
    },
    {
      "metadata": {
        "id": "cmX3c5UiFLwK",
        "colab_type": "code",
        "outputId": "e4dd6a79-f60e-4a09-f7d8-43197abe7331",
        "colab": {
          "base_uri": "https://localhost:8080/",
          "height": 70
        }
      },
      "cell_type": "code",
      "source": [
        "# Removing the datapoints in the water\n",
        "# read nyc mask and turn into boolean map with\n",
        "# land = True, water = False\n",
        "nyc_mask = plt.imread('https://aiblog.nl/download/nyc_mask-74.5_-72.8_40.5_41.8.png')[:,:,0] > 0.9\n",
        "# translate longitude/latitude coordinate into image xy coordinate\n",
        "def lonlat_to_xy(longitude, latitude, dx, dy, BB):\n",
        "    return (dx*(longitude - BB[0])/(BB[1]-BB[0])).astype('int'), \\\n",
        "           (dy - dy*(latitude - BB[2])/(BB[3]-BB[2])).astype('int')\n",
        "  \n",
        "pickup_x, pickup_y = lonlat_to_xy(df_train.pickup_longitude, df_train.pickup_latitude, \n",
        "                                  nyc_mask.shape[1], nyc_mask.shape[0], BB)\n",
        "dropoff_x, dropoff_y = lonlat_to_xy(df_train.dropoff_longitude, df_train.dropoff_latitude, \n",
        "                                  nyc_mask.shape[1], nyc_mask.shape[0], BB)\n",
        "\n",
        "\n",
        "idx = (nyc_mask[pickup_y, pickup_x] & nyc_mask[dropoff_y, dropoff_x])\n",
        "print(\"Number of trips in water: {}\".format(np.sum(~idx)))\n",
        "print(\"Size before removing any water trips: %d\" % len(df_train))\n",
        "df_train = df_train[idx]\n",
        "print(\"Size after removing all water trips: %d\" % len(df_train))"
      ],
      "execution_count": 0,
      "outputs": [
        {
          "output_type": "stream",
          "text": [
            "Number of trips in water: 70118\n",
            "Size before removing any water trips: 4891109\n",
            "Size after removing all water trips: 4820991\n"
          ],
          "name": "stdout"
        }
      ]
    },
    {
      "metadata": {
        "id": "RlMN1dGpKPkr",
        "colab_type": "code",
        "colab": {}
      },
      "cell_type": "code",
      "source": [
        "# We need some distances for getting a basic model\n",
        "# Obviously using the formula from stack overflow\n",
        "nyc = (-74.0063889, 40.7141667) # NYC center\n",
        "def distance(lat1, lon1, lat2, lon2):\n",
        "    p = 0.017453292519943295 # Pi/180\n",
        "    a = 0.5 - np.cos((lat2 - lat1) * p)/2 + np.cos(lat1 * p) * \\\n",
        "        np.cos(lat2 * p) * (1 - np.cos((lon2 - lon1) * p)) / 2\n",
        "    return 0.6213712 * 12742 * np.arcsin(np.sqrt(a))\n",
        "  \n",
        "df_train['pickup_distance_to_center'] = distance(nyc[1], nyc[0], df_train.pickup_latitude, \\\n",
        "                                          df_train.pickup_longitude)\n",
        "df_train['travel_distance_miles'] = distance(df_train.pickup_latitude, \\\n",
        "                                             df_train.pickup_longitude, \\\n",
        "                                             df_train.dropoff_latitude, \\\n",
        "                                             df_train.dropoff_longitude, \\\n",
        "                                            )\n"
      ],
      "execution_count": 0,
      "outputs": []
    },
    {
      "metadata": {
        "id": "xCBP0FK1MDrP",
        "colab_type": "code",
        "colab": {}
      },
      "cell_type": "code",
      "source": [
        "# Introducing a sense of direction\n",
        "#      B\n",
        "#     /|\n",
        "#    / |<delta_lon>\n",
        "#   /  |\n",
        "# A/___|\n",
        "# <delta_lat>\n",
        "df_train['delta_lat'] = df_train.pickup_latitude - df_train.dropoff_latitude\n",
        "df_train['delta_lon'] = df_train.pickup_longitude - df_train.dropoff_longitude"
      ],
      "execution_count": 0,
      "outputs": []
    },
    {
      "metadata": {
        "id": "BaDpTUhxNZXM",
        "colab_type": "code",
        "colab": {}
      },
      "cell_type": "code",
      "source": [
        "# add time info\n",
        "df_train['year'] = df_train.pickup_datetime.apply(lambda t: t.year)\n",
        "df_train['weekday'] = df_train.pickup_datetime.apply(lambda t: t.weekday())\n",
        "df_train['hour'] = df_train.pickup_datetime.apply(lambda t: t.hour)"
      ],
      "execution_count": 0,
      "outputs": []
    },
    {
      "metadata": {
        "id": "BsYBtd506oAS",
        "colab_type": "code",
        "outputId": "8f7ccdce-7eea-4298-f66f-4079bd6739f4",
        "colab": {
          "base_uri": "https://localhost:8080/",
          "height": 298
        }
      },
      "cell_type": "code",
      "source": [
        "# Checking all the features and datatypes before training\n",
        "df_train.dtypes"
      ],
      "execution_count": 0,
      "outputs": [
        {
          "output_type": "execute_result",
          "data": {
            "text/plain": [
              "key                                  object\n",
              "fare_amount                         float64\n",
              "pickup_datetime              datetime64[ns]\n",
              "pickup_longitude                    float64\n",
              "pickup_latitude                     float64\n",
              "dropoff_longitude                   float64\n",
              "dropoff_latitude                    float64\n",
              "passenger_count                       int64\n",
              "pickup_distance_to_center           float64\n",
              "travel_distance_miles               float64\n",
              "delta_lat                           float64\n",
              "delta_lon                           float64\n",
              "year                                  int64\n",
              "weekday                               int64\n",
              "hour                                  int64\n",
              "dtype: object"
            ]
          },
          "metadata": {
            "tags": []
          },
          "execution_count": 16
        }
      ]
    },
    {
      "metadata": {
        "id": "xScH7Uy_OjVm",
        "colab_type": "text"
      },
      "cell_type": "markdown",
      "source": [
        "### Building up model\n",
        "Built a simple model to demonstrate working of deep learning."
      ]
    },
    {
      "metadata": {
        "id": "rn47XnTKOXSE",
        "colab_type": "code",
        "outputId": "a5e4ecec-df25-44e0-ef71-51d406339d97",
        "colab": {
          "base_uri": "https://localhost:8080/",
          "height": 494
        }
      },
      "cell_type": "code",
      "source": [
        "# Start building the model\n",
        "from __future__ import absolute_import, division, print_function\n",
        "\n",
        "import tensorflow as tf\n",
        "from tensorflow import keras\n",
        "print(\"Tensorflow version: %s\" % tf.__version__)\n",
        "def build_model():\n",
        "  model = keras.Sequential([\n",
        "      keras.layers.Dense(64, activation=tf.nn.relu, \n",
        "                         input_shape=(7,)),\n",
        "      keras.layers.Dense(128, activation=tf.nn.relu),\n",
        "      keras.layers.Dense(256, activation=tf.nn.relu),\n",
        "      keras.layers.Dense(128, activation=tf.nn.relu),\n",
        "      keras.layers.Dense(64, activation=tf.nn.relu),\n",
        "      keras.layers.Dense(1)\n",
        "  ])\n",
        "  \n",
        "  optimizer = tf.train.RMSPropOptimizer(0.001)\n",
        "  \n",
        "  model.compile(loss='mse',\n",
        "               optimizer=optimizer,\n",
        "               metrics=['mae'])\n",
        "  return model\n",
        "\n",
        "training_model = build_model()\n",
        "training_model.summary()"
      ],
      "execution_count": 0,
      "outputs": [
        {
          "output_type": "stream",
          "text": [
            "Tensorflow version: 1.13.0-rc1\n",
            "WARNING:tensorflow:From /usr/local/lib/python3.6/dist-packages/tensorflow/python/ops/resource_variable_ops.py:435: colocate_with (from tensorflow.python.framework.ops) is deprecated and will be removed in a future version.\n",
            "Instructions for updating:\n",
            "Colocations handled automatically by placer.\n",
            "WARNING:tensorflow:From /usr/local/lib/python3.6/dist-packages/tensorflow/python/keras/utils/losses_utils.py:170: to_float (from tensorflow.python.ops.math_ops) is deprecated and will be removed in a future version.\n",
            "Instructions for updating:\n",
            "Use tf.cast instead.\n",
            "_________________________________________________________________\n",
            "Layer (type)                 Output Shape              Param #   \n",
            "=================================================================\n",
            "dense (Dense)                (None, 64)                512       \n",
            "_________________________________________________________________\n",
            "dense_1 (Dense)              (None, 128)               8320      \n",
            "_________________________________________________________________\n",
            "dense_2 (Dense)              (None, 256)               33024     \n",
            "_________________________________________________________________\n",
            "dense_3 (Dense)              (None, 128)               32896     \n",
            "_________________________________________________________________\n",
            "dense_4 (Dense)              (None, 64)                8256      \n",
            "_________________________________________________________________\n",
            "dense_5 (Dense)              (None, 1)                 65        \n",
            "=================================================================\n",
            "Total params: 83,073\n",
            "Trainable params: 83,073\n",
            "Non-trainable params: 0\n",
            "_________________________________________________________________\n"
          ],
          "name": "stdout"
        }
      ]
    },
    {
      "metadata": {
        "id": "uN5IwuMDLRLE",
        "colab_type": "code",
        "outputId": "4792ef9c-6407-46d5-ed46-b2c0c027cd8d",
        "colab": {
          "base_uri": "https://localhost:8080/",
          "height": 301
        }
      },
      "cell_type": "code",
      "source": [
        "# Remove points with 0 passengers\n",
        "idx = df_train.passenger_count != 0\n",
        "# Choosing the basic model\n",
        "# fare <-- (year, weekday, hour, travel_distance_miles, passenger_count,\\\n",
        "#           delta_lat, delta_lon)\n",
        "features = ['year', 'weekday', 'hour', 'travel_distance_miles', 'passenger_count',\n",
        "            'delta_lat', 'delta_lon']\n",
        "X = df_train[idx][features].values\n",
        "y = df_train[idx]['fare_amount'].values\n",
        "# Training the actual model\n",
        "class PrintDot(keras.callbacks.Callback):\n",
        "  def on_epoch_end(self, epoch, logs):\n",
        "    if epoch % 100 == 0:\n",
        "      print('')\n",
        "    print('.', end='')\n",
        "    \n",
        "EPOCHS=5\n",
        "\n",
        "# Store training stats\n",
        "history = training_model.fit(X, y, epochs=EPOCHS, validation_split=0.2, verbose=2,\n",
        "                    callbacks=[PrintDot()])"
      ],
      "execution_count": 0,
      "outputs": [
        {
          "output_type": "stream",
          "text": [
            "Train on 3843224 samples, validate on 960806 samples\n",
            "WARNING:tensorflow:From /usr/local/lib/python3.6/dist-packages/tensorflow/python/ops/math_ops.py:3066: to_int32 (from tensorflow.python.ops.math_ops) is deprecated and will be removed in a future version.\n",
            "Instructions for updating:\n",
            "Use tf.cast instead.\n",
            "Epoch 1/5\n",
            "\n",
            ". - 379s - loss: 28.3409 - mean_absolute_error: 2.7409 - val_loss: 22.9949 - val_mean_absolute_error: 2.4002\n",
            "Epoch 2/5\n",
            ". - 377s - loss: 23.3796 - mean_absolute_error: 2.4832 - val_loss: 23.3310 - val_mean_absolute_error: 2.3711\n",
            "Epoch 3/5\n",
            ". - 373s - loss: 23.0008 - mean_absolute_error: 2.4462 - val_loss: 22.2828 - val_mean_absolute_error: 2.3188\n",
            "Epoch 4/5\n",
            ". - 373s - loss: 22.8278 - mean_absolute_error: 2.4321 - val_loss: 22.0989 - val_mean_absolute_error: 2.3474\n",
            "Epoch 5/5\n",
            ". - 370s - loss: 22.7468 - mean_absolute_error: 2.4159 - val_loss: 22.5550 - val_mean_absolute_error: 2.4142\n"
          ],
          "name": "stdout"
        }
      ]
    },
    {
      "metadata": {
        "id": "YdjDUh9irkdv",
        "colab_type": "code",
        "outputId": "ae298b41-2566-4bea-e583-e093509128f6",
        "colab": {
          "base_uri": "https://localhost:8080/",
          "height": 125
        }
      },
      "cell_type": "code",
      "source": [
        "# Save the preprocessed dataframe into google drive\n",
        "from google.colab import drive\n",
        "drive.mount('/content/drive')"
      ],
      "execution_count": 0,
      "outputs": [
        {
          "output_type": "stream",
          "text": [
            "Go to this URL in a browser: https://accounts.google.com/o/oauth2/auth?client_id=947318989803-6bn6qk8qdgf4n4g3pfee6491hc0brc4i.apps.googleusercontent.com&redirect_uri=urn%3Aietf%3Awg%3Aoauth%3A2.0%3Aoob&scope=email%20https%3A%2F%2Fwww.googleapis.com%2Fauth%2Fdocs.test%20https%3A%2F%2Fwww.googleapis.com%2Fauth%2Fdrive%20https%3A%2F%2Fwww.googleapis.com%2Fauth%2Fdrive.photos.readonly%20https%3A%2F%2Fwww.googleapis.com%2Fauth%2Fpeopleapi.readonly&response_type=code\n",
            "\n",
            "Enter your authorization code:\n",
            "··········\n",
            "Mounted at /content/drive\n"
          ],
          "name": "stdout"
        }
      ]
    },
    {
      "metadata": {
        "id": "h5cXAwmmsIYg",
        "colab_type": "code",
        "outputId": "e8ad0179-59b3-4116-86d3-0f8ac1d46a33",
        "colab": {
          "base_uri": "https://localhost:8080/",
          "height": 52
        }
      },
      "cell_type": "code",
      "source": [
        "!ls \"/content/drive/My Drive\"\n",
        "df_train.to_csv(\"training_preproc_5m.csv\", sep='\\t', encoding='utf-8')\n",
        "!cp \"training_preproc_5m.csv\" \"/content/drive/My Drive/NewYorkTaxiFare\"\n",
        "!ls \"/content/drive/My Drive/NewYorkTaxiFare\""
      ],
      "execution_count": 0,
      "outputs": [
        {
          "output_type": "stream",
          "text": [
            "'Colab Notebooks'   NewYorkTaxiFare\n",
            "training_preproc_5m.csv\n"
          ],
          "name": "stdout"
        }
      ]
    },
    {
      "metadata": {
        "id": "89d9AOoXvZEB",
        "colab_type": "code",
        "outputId": "d5db925c-0f11-492e-82c3-758347648eb0",
        "colab": {
          "base_uri": "https://localhost:8080/",
          "height": 54
        }
      },
      "cell_type": "code",
      "source": [
        "# Also save the model to google drive\n",
        "!pip install -q h5py pyyaml \n",
        "training_model.save(\"training_model.h5\")\n",
        "!cp \"training_model.h5\" \"/content/drive/My Drive/\""
      ],
      "execution_count": 0,
      "outputs": [
        {
          "output_type": "stream",
          "text": [
            "WARNING:tensorflow:TensorFlow optimizers do not make it possible to access optimizer attributes or optimizer state after instantiation. As a result, we cannot save the optimizer as part of the model save file.You will have to compile your model again after loading it. Prefer using a Keras optimizer instead (see keras.io/optimizers).\n"
          ],
          "name": "stdout"
        }
      ]
    },
    {
      "metadata": {
        "id": "WMyE1VB8zgaC",
        "colab_type": "code",
        "colab": {}
      },
      "cell_type": "code",
      "source": [
        "df_test = pd.read_csv(\"test.csv\", parse_dates=['pickup_datetime'])"
      ],
      "execution_count": 0,
      "outputs": []
    },
    {
      "metadata": {
        "id": "u7lJzK9U0Cdy",
        "colab_type": "code",
        "outputId": "f9587ed9-1b6f-4dc2-e448-53aefa9cf8a9",
        "colab": {
          "base_uri": "https://localhost:8080/",
          "height": 283
        }
      },
      "cell_type": "code",
      "source": [
        "def plot_history(history):\n",
        "  plt.figure()\n",
        "  plt.xlabel('Epoch')\n",
        "  plt.ylabel('Mean Abs Error [1000$]')\n",
        "  plt.plot(history.epoch, np.array(history.history['mean_absolute_error']),\n",
        "           label='Train Loss')\n",
        "  plt.plot(history.epoch, np.array(history.history['val_mean_absolute_error']),\n",
        "           label = 'Val loss')\n",
        "  plt.legend()\n",
        "  plt.ylim([0, 5])\n",
        "\n",
        "plot_history(history)"
      ],
      "execution_count": 0,
      "outputs": [
        {
          "output_type": "display_data",
          "data": {
            "image/png": "[encoded data removed]",
            "text/plain": [
              "<matplotlib.figure.Figure at 0x7f7f9f9cf160>"
            ]
          },
          "metadata": {
            "tags": []
          }
        }
      ]
    },
    {
      "metadata": {
        "id": "4KdVYOjx1Ai9",
        "colab_type": "code",
        "outputId": "38ce68f0-c0e4-48a0-83f8-57fce475d669",
        "colab": {
          "base_uri": "https://localhost:8080/",
          "height": 34
        }
      },
      "cell_type": "code",
      "source": [
        "df_test['pickup_distance_to_center'] = distance(nyc[1], nyc[0], df_test.pickup_latitude, \\\n",
        "                                          df_test.pickup_longitude)\n",
        "df_test['travel_distance_miles'] = distance(df_test.pickup_latitude, \\\n",
        "                                             df_test.pickup_longitude, \\\n",
        "                                             df_test.dropoff_latitude, \\\n",
        "                                             df_test.dropoff_longitude, \\\n",
        "                                            )\n",
        "df_test['delta_lat'] = df_test.pickup_latitude - df_test.dropoff_latitude\n",
        "df_test['delta_lon'] = df_test.pickup_longitude - df_test.dropoff_longitude\n",
        "\n",
        "df_test['year'] = df_test.pickup_datetime.apply(lambda t: t.year)\n",
        "df_test['weekday'] = df_test.pickup_datetime.apply(lambda t: t.weekday())\n",
        "df_test['hour'] = df_test.pickup_datetime.apply(lambda t: t.hour)\n",
        "test_idx = df_test.passenger_count != 0\n",
        "# Choosing the basic model\n",
        "# fare <-- (year, weekday, hour, travel_distance_miles, passenger_count,\\\n",
        "#           delta_lat, delta_lon)\n",
        "features = ['year', 'weekday', 'hour', 'travel_distance_miles', 'passenger_count',\n",
        "            'delta_lat', 'delta_lon']\n",
        "test_X = df_test[test_idx][features].values\n",
        "test_y = training_model.predict(test_X).flatten()\n",
        "print(test_y)"
      ],
      "execution_count": 0,
      "outputs": [
        {
          "output_type": "stream",
          "text": [
            "[ 9.780495   9.805965   4.670234  ... 52.88061   21.628372   7.0981464]\n"
          ],
          "name": "stdout"
        }
      ]
    },
    {
      "metadata": {
        "id": "FwG2DSZX4Kw-",
        "colab_type": "code",
        "colab": {}
      },
      "cell_type": "code",
      "source": [
        "submission = open(\"submission.csv\", \"w\")\n",
        "submission.write(\"key,fare_amount\\n\")\n",
        "for i in range(0, len(test_y)):\n",
        "  submission.write(df_test['key'][i] + ',' + str(test_y[i]) + '\\n')\n",
        "  \n",
        "submission.close()\n",
        "!cp \"submission.csv\" \"/content/drive/My Drive/NewYorkTaxiFare/\""
      ],
      "execution_count": 0,
      "outputs": []
    },
    {
      "metadata": {
        "id": "ptiO-Kft6W27",
        "colab_type": "code",
        "outputId": "13e74e63-0d82-4d06-cb64-da96adedc813",
        "colab": {
          "base_uri": "https://localhost:8080/",
          "height": 578
        }
      },
      "cell_type": "code",
      "source": [
        "# A refresh of the session\n",
        "from google.colab import drive\n",
        "from __future__ import absolute_import, division, print_function\n",
        "import numpy as np\n",
        "import pandas as pd\n",
        "import matplotlib.pyplot as plt\n",
        "import seaborn as sns\n",
        "import tensorflow as tf\n",
        "from tensorflow import keras\n",
        "from keras.callbacks import ModelCheckpoint\n",
        "% matplotlib inline\n",
        "plt.style.use('seaborn-whitegrid')\n",
        "\n",
        "print(\"Tensorflow version: %s\" % tf.__version__)\n",
        "drive.mount(\"/content/drive\")\n",
        "print(\"Loading training files\")\n",
        "\n",
        "!cp \"/content/drive/My Drive/NewYorkTaxiFare/training_model.h5\" \"./\"\n",
        "!cp \"/content/drive/My Drive/NewYorkTaxiFare/checkpoint_weights.hdf5\" \"./\"\n",
        "!cp \"/content/drive/My Drive/NewYorkTaxiFare/training_preproc_5m.csv\" \"./\"\n",
        "!cp \"/content/drive/My Drive/NewYorkTaxiFare/test.csv\" \"./\"\n",
        "\n",
        "!ls -al\n",
        "# We do want logs tensorflow sessions\n",
        "sess = tf.Session(config=tf.ConfigProto(log_device_placement=True))\n",
        "df_train_loaded = pd.read_csv(\"training_preproc_5m.csv\", encoding='utf-8', sep='\\t') \n",
        "df_train_loaded.head()\n",
        "restored_model = keras.models.load_model(\"training_model.h5\")\n",
        "restored_model = keras.models.load_model(\"checkpoint_weights.hdf5\")\n",
        "# optimizer = tf.train.RMSPropOptimizer(0.001) Not using the tensorflow optmiizer this time\n",
        "optimizer = keras.optimizers.RMSprop(lr=0.001, rho=0.9, epsilon=None, decay=0.0)\n",
        "restored_model.compile(loss='mse',\n",
        "                       optimizer=optimizer,\n",
        "                       metrics=['mae'])\n",
        "# Remove points with 0 passengers\n",
        "idx = (df_train_loaded.passenger_count != 0) & (df_train_loaded.travel_distance_miles > 0.00)\n",
        "# Choosing the basic model\n",
        "# fare <-- (year, weekday, hour, travel_distance_miles, passenger_count,\\\n",
        "#           delta_lat, delta_lon)\n",
        "features = ['year', 'weekday', 'hour', 'travel_distance_miles', 'passenger_count',\n",
        "            'delta_lat', 'delta_lon']\n",
        "X = df_train_loaded[idx][features].values\n",
        "y = df_train_loaded[idx]['fare_amount'].values\n",
        "# Training the actual model\n",
        "class PrintDot(keras.callbacks.Callback):\n",
        "  def on_epoch_end(self, epoch, logs):\n",
        "    if epoch % 100 == 0:\n",
        "      print('')\n",
        "    print('.', end='')\n",
        "    \n",
        "EPOCHS=30\n",
        "\n",
        "checkpointer = ModelCheckpoint(filepath='/content/drive/My Drive/NewYorkTaxiFare/checkpoint_weights.hdf5', verbose=1, save_best_only=True)\n",
        "# Store training stats\n",
        "history = restored_model.fit(X, y, epochs=EPOCHS, validation_split=0.2, verbose=2,\n",
        "                    callbacks=[PrintDot(), checkpointer])\n",
        "\n",
        "def plot_history(history):\n",
        "  plt.figure()\n",
        "  plt.xlabel('Epoch')\n",
        "  plt.ylabel('Mean Abs Error [1000$]')\n",
        "  plt.plot(history.epoch, np.array(history.history['mean_absolute_error']),\n",
        "           label='Train Loss')\n",
        "  plt.plot(history.epoch, np.array(history.history['val_mean_absolute_error']),\n",
        "           label = 'Val loss')\n",
        "  plt.legend()\n",
        "  plt.ylim([0, 5])\n",
        "\n",
        "plot_history(history)\n",
        "\n",
        "\n",
        "nyc = (-74.0063889, 40.7141667) # NYC center\n",
        "\n",
        "def distance(lat1, lon1, lat2, lon2):\n",
        "    p = 0.017453292519943295 # Pi/180\n",
        "    a = 0.5 - np.cos((lat2 - lat1) * p)/2 + np.cos(lat1 * p) * \\\n",
        "        np.cos(lat2 * p) * (1 - np.cos((lon2 - lon1) * p)) / 2\n",
        "    return 0.6213712 * 12742 * np.arcsin(np.sqrt(a))\n",
        "\n",
        "# Get the test data and preprocess it\n",
        "df_test = pd.read_csv(\"test.csv\", parse_dates=['pickup_datetime'])\n",
        "df_test['pickup_distance_to_center'] = distance(nyc[1], nyc[0], df_test.pickup_latitude, \\\n",
        "                                          df_test.pickup_longitude)\n",
        "df_test['travel_distance_miles'] = distance(df_test.pickup_latitude, \\\n",
        "                                             df_test.pickup_longitude, \\\n",
        "                                             df_test.dropoff_latitude, \\\n",
        "                                             df_test.dropoff_longitude, \\\n",
        "                                            )\n",
        "df_test['delta_lat'] = df_test.pickup_latitude - df_test.dropoff_latitude\n",
        "df_test['delta_lon'] = df_test.pickup_longitude - df_test.dropoff_longitude\n",
        "\n",
        "df_test['year'] = df_test.pickup_datetime.apply(lambda t: t.year)\n",
        "df_test['weekday'] = df_test.pickup_datetime.apply(lambda t: t.weekday())\n",
        "df_test['hour'] = df_test.pickup_datetime.apply(lambda t: t.hour)\n",
        "test_idx = df_test.passenger_count != 0\n",
        "# Choosing the basic model\n",
        "# fare <-- (year, weekday, hour, travel_distance_miles, passenger_count,\\\n",
        "#           delta_lat, delta_lon)\n",
        "features = ['year', 'weekday', 'hour', 'travel_distance_miles', 'passenger_count',\n",
        "            'delta_lat', 'delta_lon']\n",
        "test_X = df_test[test_idx][features].values\n",
        "test_y = restored_model.predict(test_X).flatten()\n",
        "print(\"Average taxi fare after training: \" + str((sum(test_y) / len(test_y))))\n",
        "\n",
        "# Write the submission file \n",
        "submission = open(\"submission.csv\", \"w\")\n",
        "submission.write(\"key,fare_amount\\n\")\n",
        "for i in range(0, len(test_y)):\n",
        "  submission.write(df_test['key'][i] + ',' + str(test_y[i]) + '\\n')\n",
        "  \n",
        "submission.close()\n",
        "!cp \"submission.csv\" \"/content/drive/My Drive/NewYorkTaxiFare/\""
      ],
      "execution_count": 0,
      "outputs": [
        {
          "output_type": "stream",
          "text": [
            "Using TensorFlow backend.\n"
          ],
          "name": "stderr"
        },
        {
          "output_type": "stream",
          "text": [
            "Tensorflow version: 1.12.0-rc1\n",
            "Mounted at /content/drive\n",
            "Loading training files\n",
            "total 951256\n",
            "drwxr-xr-x 1 root root      4096 Oct 30 09:32 .\n",
            "drwxr-xr-x 1 root root      4096 Oct 30 09:27 ..\n",
            "-rw------- 1 root root     93176 Oct 30 09:31 checkpoint_weights.hdf5\n",
            "drwxr-xr-x 4 root root      4096 Oct 26 16:29 .config\n",
            "drwx------ 3 root root      4096 Oct 30 09:31 drive\n",
            "drwxr-xr-x 2 root root      4096 Oct 26 16:42 sample_data\n",
            "-rw------- 1 root root    983020 Oct 30 09:32 test.csv\n",
            "-rw------- 1 root root     93176 Oct 30 09:31 training_model.h5\n",
            "-rw------- 1 root root 972887081 Oct 30 09:32 training_preproc_5m.csv\n",
            "Train on 3803367 samples, validate on 950842 samples\n",
            "Epoch 1/30\n",
            "\n",
            ".\n",
            "Epoch 00001: val_loss improved from inf to 21.33033, saving model to /content/drive/My Drive/NewYorkTaxiFare/checkpoint_weights.hdf5\n",
            " - 139s - loss: 20.1361 - mean_absolute_error: 2.2978 - val_loss: 21.3303 - val_mean_absolute_error: 2.5962\n",
            "Epoch 2/30\n",
            ".\n",
            "Epoch 00002: val_loss improved from 21.33033 to 20.39027, saving model to /content/drive/My Drive/NewYorkTaxiFare/checkpoint_weights.hdf5\n",
            " - 136s - loss: 20.4713 - mean_absolute_error: 2.3105 - val_loss: 20.3903 - val_mean_absolute_error: 2.2347\n",
            "Epoch 3/30\n",
            ".\n",
            "Epoch 00003: val_loss improved from 20.39027 to 20.07505, saving model to /content/drive/My Drive/NewYorkTaxiFare/checkpoint_weights.hdf5\n",
            " - 137s - loss: 20.3933 - mean_absolute_error: 2.3166 - val_loss: 20.0751 - val_mean_absolute_error: 2.2613\n",
            "Epoch 4/30\n",
            ".\n",
            "Epoch 00004: val_loss improved from 20.07505 to 19.97002, saving model to /content/drive/My Drive/NewYorkTaxiFare/checkpoint_weights.hdf5\n",
            " - 137s - loss: 19.9079 - mean_absolute_error: 2.2794 - val_loss: 19.9700 - val_mean_absolute_error: 2.2152\n",
            "Epoch 5/30\n"
          ],
          "name": "stdout"
        }
      ]
    },
    {
      "metadata": {
        "id": "MMQvgXvVkinu",
        "colab_type": "code",
        "outputId": "33d87d89-8045-41b9-b9a2-9c0f7cc9cb2c",
        "colab": {
          "base_uri": "https://localhost:8080/",
          "height": 34
        }
      },
      "cell_type": "code",
      "source": [
        "nyc = (-74.0063889, 40.7141667) # NYC center\n",
        "\n",
        "def distance(lat1, lon1, lat2, lon2):\n",
        "    p = 0.017453292519943295 # Pi/180\n",
        "    a = 0.5 - np.cos((lat2 - lat1) * p)/2 + np.cos(lat1 * p) * \\\n",
        "        np.cos(lat2 * p) * (1 - np.cos((lon2 - lon1) * p)) / 2\n",
        "    return 0.6213712 * 12742 * np.arcsin(np.sqrt(a))\n",
        "  \n",
        "df_test = pd.read_csv(\"test.csv\", parse_dates=['pickup_datetime'])\n",
        "df_test['pickup_distance_to_center'] = distance(nyc[1], nyc[0], df_test.pickup_latitude, \\\n",
        "                                          df_test.pickup_longitude)\n",
        "df_test['travel_distance_miles'] = distance(df_test.pickup_latitude, \\\n",
        "                                             df_test.pickup_longitude, \\\n",
        "                                             df_test.dropoff_latitude, \\\n",
        "                                             df_test.dropoff_longitude, \\\n",
        "                                            )\n",
        "df_test['delta_lat'] = df_test.pickup_latitude - df_test.dropoff_latitude\n",
        "df_test['delta_lon'] = df_test.pickup_longitude - df_test.dropoff_longitude\n",
        "\n",
        "df_test['year'] = df_test.pickup_datetime.apply(lambda t: t.year)\n",
        "df_test['weekday'] = df_test.pickup_datetime.apply(lambda t: t.weekday())\n",
        "df_test['hour'] = df_test.pickup_datetime.apply(lambda t: t.hour)\n",
        "test_idx = df_test.passenger_count != 0\n",
        "# Choosing the basic model\n",
        "# fare <-- (year, weekday, hour, travel_distance_miles, passenger_count,\\\n",
        "#           delta_lat, delta_lon)\n",
        "features = ['year', 'weekday', 'hour', 'travel_distance_miles', 'passenger_count',\n",
        "            'delta_lat', 'delta_lon']\n",
        "test_X = df_test[test_idx][features].values\n",
        "test_y = restored_model.predict(test_X).flatten()\n",
        "print(\"Average taxi fare after training: \" + str((sum(test_y) / len(test_y))))\n",
        "\n",
        "# Write the submission file \n",
        "submission = open(\"submission.csv\", \"w\")\n",
        "submission.write(\"key,fare_amount\\n\")\n",
        "for i in range(0, len(test_y)):\n",
        "  submission.write(df_test['key'][i] + ',' + str(test_y[i]) + '\\n')\n",
        "  \n",
        "submission.close()\n",
        "!cp \"submission.csv\" \"/content/drive/My Drive/NewYorkTaxiFare/\""
      ],
      "execution_count": 0,
      "outputs": [
        {
          "output_type": "stream",
          "text": [
            "Average taxi fare after training: 10.060709018006978\n"
          ],
          "name": "stdout"
        }
      ]
    },
    {
      "metadata": {
        "id": "o6eqMbOSYAdC",
        "colab_type": "code",
        "colab": {}
      },
      "cell_type": "code",
      "source": [
        "restored_model.save(\"training_model.h5\")\n",
        "!cp \"training_model.h5\" \"/content/drive/My Drive/NewYorkTaxiFare/\""
      ],
      "execution_count": 0,
      "outputs": []
    }
  ]
}